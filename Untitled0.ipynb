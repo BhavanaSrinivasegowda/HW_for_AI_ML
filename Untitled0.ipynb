{
  "nbformat": 4,
  "nbformat_minor": 0,
  "metadata": {
    "colab": {
      "provenance": [],
      "gpuType": "T4",
      "authorship_tag": "ABX9TyMNWh7a+egoCnZ9Kpt9hnud",
      "include_colab_link": true
    },
    "kernelspec": {
      "name": "python3",
      "display_name": "Python 3"
    },
    "language_info": {
      "name": "python"
    },
    "accelerator": "GPU"
  },
  "cells": [
    {
      "cell_type": "markdown",
      "metadata": {
        "id": "view-in-github",
        "colab_type": "text"
      },
      "source": [
        "<a href=\"https://colab.research.google.com/github/BhavanaSrinivasegowda/HW_for_AI_ML/blob/main/Untitled0.ipynb\" target=\"_parent\"><img src=\"https://colab.research.google.com/assets/colab-badge.svg\" alt=\"Open In Colab\"/></a>"
      ]
    },
    {
      "cell_type": "code",
      "execution_count": 1,
      "metadata": {
        "colab": {
          "base_uri": "https://localhost:8080/"
        },
        "id": "Mu4s3D4DVaFt",
        "outputId": "365f465a-af6f-4b6b-87aa-aa6c1d554290"
      },
      "outputs": [
        {
          "output_type": "stream",
          "name": "stdout",
          "text": [
            "Wed Apr 23 22:19:18 2025       \n",
            "+-----------------------------------------------------------------------------------------+\n",
            "| NVIDIA-SMI 550.54.15              Driver Version: 550.54.15      CUDA Version: 12.4     |\n",
            "|-----------------------------------------+------------------------+----------------------+\n",
            "| GPU  Name                 Persistence-M | Bus-Id          Disp.A | Volatile Uncorr. ECC |\n",
            "| Fan  Temp   Perf          Pwr:Usage/Cap |           Memory-Usage | GPU-Util  Compute M. |\n",
            "|                                         |                        |               MIG M. |\n",
            "|=========================================+========================+======================|\n",
            "|   0  Tesla T4                       Off |   00000000:00:04.0 Off |                    0 |\n",
            "| N/A   63C    P8             11W /   70W |       0MiB /  15360MiB |      0%      Default |\n",
            "|                                         |                        |                  N/A |\n",
            "+-----------------------------------------+------------------------+----------------------+\n",
            "                                                                                         \n",
            "+-----------------------------------------------------------------------------------------+\n",
            "| Processes:                                                                              |\n",
            "|  GPU   GI   CI        PID   Type   Process name                              GPU Memory |\n",
            "|        ID   ID                                                               Usage      |\n",
            "|=========================================================================================|\n",
            "|  No running processes found                                                             |\n",
            "+-----------------------------------------------------------------------------------------+\n"
          ]
        }
      ],
      "source": [
        "!nvidia-smi"
      ]
    },
    {
      "cell_type": "code",
      "source": [
        "!nvcc --version"
      ],
      "metadata": {
        "colab": {
          "base_uri": "https://localhost:8080/"
        },
        "id": "cNiYr0XMVtVK",
        "outputId": "fdc196dc-3fb4-4f09-9a96-6fd7a392ed01"
      },
      "execution_count": 2,
      "outputs": [
        {
          "output_type": "stream",
          "name": "stdout",
          "text": [
            "nvcc: NVIDIA (R) Cuda compiler driver\n",
            "Copyright (c) 2005-2024 NVIDIA Corporation\n",
            "Built on Thu_Jun__6_02:18:23_PDT_2024\n",
            "Cuda compilation tools, release 12.5, V12.5.82\n",
            "Build cuda_12.5.r12.5/compiler.34385749_0\n"
          ]
        }
      ]
    },
    {
      "cell_type": "code",
      "source": [
        "%%writefile saxpy.cu\n",
        "#include <stdio.h>\n",
        "#include <math.h> // for fabsf\n",
        "\n",
        "__global__\n",
        "void saxpy(int n, float a, float *x, float *y)\n",
        "{\n",
        "  int i = blockIdx.x*blockDim.x + threadIdx.x;\n",
        "  if (i < n) y[i] = a*x[i] + y[i];\n",
        "}\n",
        "\n",
        "int main(void)\n",
        "{\n",
        "  int N = 1<<20;\n",
        "  float *x, *y, *d_x, *d_y;\n",
        "  x = (float*)malloc(N*sizeof(float));\n",
        "  y = (float*)malloc(N*sizeof(float));\n",
        "\n",
        "  cudaMalloc(&d_x, N*sizeof(float));\n",
        "  cudaMalloc(&d_y, N*sizeof(float));\n",
        "\n",
        "  for (int i = 0; i < N; i++) {\n",
        "    x[i] = 1.0f;\n",
        "    y[i] = 2.0f;\n",
        "  }\n",
        "\n",
        "  cudaMemcpy(d_x, x, N*sizeof(float), cudaMemcpyHostToDevice);\n",
        "  cudaMemcpy(d_y, y, N*sizeof(float), cudaMemcpyHostToDevice);\n",
        "\n",
        "  // Perform SAXPY on 1M elements\n",
        "  saxpy<<<(N+255)/256, 256>>>(N, 2.0f, d_x, d_y);\n",
        "\n",
        "  cudaMemcpy(y, d_y, N*sizeof(float), cudaMemcpyDeviceToHost);\n",
        "\n",
        "  float maxError = 0.0f;\n",
        "  for (int i = 0; i < N; i++)\n",
        "    maxError = fmaxf(maxError, fabsf(y[i]-4.0f));\n",
        "  printf(\"Max error: %f\\n\", maxError);\n",
        "\n",
        "  cudaFree(d_x);\n",
        "  cudaFree(d_y);\n",
        "  free(x);\n",
        "  free(y);\n",
        "}"
      ],
      "metadata": {
        "colab": {
          "base_uri": "https://localhost:8080/"
        },
        "id": "SfpLQ0rSVwR2",
        "outputId": "0e8f7bf0-ea38-4df8-85ac-ede6c16ad384"
      },
      "execution_count": 3,
      "outputs": [
        {
          "output_type": "stream",
          "name": "stdout",
          "text": [
            "Writing saxpy.cu\n"
          ]
        }
      ]
    },
    {
      "cell_type": "code",
      "source": [
        "!nvcc -arch=sm_70 saxpy.cu -o saxpy"
      ],
      "metadata": {
        "id": "xY131ZN8WDOS"
      },
      "execution_count": 4,
      "outputs": []
    },
    {
      "cell_type": "code",
      "source": [
        "!./saxpy"
      ],
      "metadata": {
        "colab": {
          "base_uri": "https://localhost:8080/"
        },
        "id": "l82YxFXyWQYf",
        "outputId": "ced1f961-ea5d-4a8f-8fb0-6e816d48ac86"
      },
      "execution_count": 5,
      "outputs": [
        {
          "output_type": "stream",
          "name": "stdout",
          "text": [
            "Max error: 0.000000\n"
          ]
        }
      ]
    },
    {
      "cell_type": "code",
      "source": [
        "%%writefile saxpy_debug.cu\n",
        "#include <stdio.h>\n",
        "#include <math.h>\n",
        "#include <cuda_runtime.h>\n",
        "\n",
        "__global__\n",
        "void saxpy(int n, float a, float *x, float *y)\n",
        "{\n",
        "  int i = blockIdx.x * blockDim.x + threadIdx.x;\n",
        "  if (i < n) y[i] = a * x[i] + y[i];\n",
        "}\n",
        "\n",
        "int main(void)\n",
        "{\n",
        "  for (int exp = 15; exp <= 25; exp++) {\n",
        "    int N = 1 << exp;\n",
        "    float *x, *y, *d_x, *d_y;\n",
        "\n",
        "    x = (float*)malloc(N * sizeof(float));\n",
        "    y = (float*)malloc(N * sizeof(float));\n",
        "\n",
        "    if (cudaMalloc(&d_x, N * sizeof(float)) != cudaSuccess ||\n",
        "        cudaMalloc(&d_y, N * sizeof(float)) != cudaSuccess) {\n",
        "      printf(\"CUDA malloc failed for N = %d\\n\", N);\n",
        "      free(x); free(y);\n",
        "      continue;\n",
        "    }\n",
        "\n",
        "    for (int i = 0; i < N; i++) {\n",
        "      x[i] = 1.0f;\n",
        "      y[i] = 2.0f;\n",
        "    }\n",
        "\n",
        "    cudaMemcpy(d_x, x, N * sizeof(float), cudaMemcpyHostToDevice);\n",
        "    cudaMemcpy(d_y, y, N * sizeof(float), cudaMemcpyHostToDevice);\n",
        "\n",
        "    cudaEvent_t start, stop;\n",
        "    cudaEventCreate(&start);\n",
        "    cudaEventCreate(&stop);\n",
        "\n",
        "    cudaEventRecord(start);\n",
        "    saxpy<<<(N + 255) / 256, 256>>>(N, 2.0f, d_x, d_y);\n",
        "    cudaEventRecord(stop);\n",
        "\n",
        "    // ✅ Check for kernel launch errors\n",
        "    cudaError_t err = cudaGetLastError();\n",
        "    if (err != cudaSuccess) {\n",
        "      printf(\"CUDA kernel launch failed: %s\\n\", cudaGetErrorString(err));\n",
        "      cudaFree(d_x); cudaFree(d_y); free(x); free(y);\n",
        "      continue;\n",
        "    }\n",
        "\n",
        "    cudaEventSynchronize(stop);\n",
        "    float milliseconds = 0;\n",
        "    cudaEventElapsedTime(&milliseconds, start, stop);\n",
        "\n",
        "    cudaMemcpy(y, d_y, N * sizeof(float), cudaMemcpyDeviceToHost);\n",
        "\n",
        "    float maxError = 0.0f;\n",
        "    for (int i = 0; i < N; i++)\n",
        "      maxError = fmaxf(maxError, fabsf(y[i] - 4.0f));\n",
        "\n",
        "    printf(\"N = 2^%d (%d): Max error = %f, Time = %.3f ms\\n\", exp, N, maxError, milliseconds);\n",
        "\n",
        "    // ✅ Print a few y values to confirm correctness\n",
        "    printf(\"Sample values: y[0] = %.1f, y[1] = %.1f, y[N-1] = %.1f\\n\\n\", y[0], y[1], y[N-1]);\n",
        "\n",
        "    cudaFree(d_x);\n",
        "    cudaFree(d_y);\n",
        "    free(x);\n",
        "    free(y);\n",
        "  }\n",
        "\n",
        "  return 0;\n",
        "}"
      ],
      "metadata": {
        "colab": {
          "base_uri": "https://localhost:8080/"
        },
        "id": "JPF5b1IkWSm_",
        "outputId": "32834689-bff2-4b28-a77d-0ea313f1a43f"
      },
      "execution_count": 6,
      "outputs": [
        {
          "output_type": "stream",
          "name": "stdout",
          "text": [
            "Writing saxpy_debug.cu\n"
          ]
        }
      ]
    },
    {
      "cell_type": "code",
      "source": [
        "!nvcc -arch=sm_70 saxpy_debug.cu -o saxpy_debug"
      ],
      "metadata": {
        "id": "VPIb93VqWndw"
      },
      "execution_count": 7,
      "outputs": []
    },
    {
      "cell_type": "code",
      "source": [
        "!./saxpy_debug"
      ],
      "metadata": {
        "colab": {
          "base_uri": "https://localhost:8080/"
        },
        "id": "G_PWha0jWuPA",
        "outputId": "08f9f4a2-918a-4dc7-fec8-856f3b3b3f74"
      },
      "execution_count": 8,
      "outputs": [
        {
          "output_type": "stream",
          "name": "stdout",
          "text": [
            "N = 2^15 (32768): Max error = 0.000000, Time = 0.095 ms\n",
            "Sample values: y[0] = 4.0, y[1] = 4.0, y[N-1] = 4.0\n",
            "\n",
            "N = 2^16 (65536): Max error = 0.000000, Time = 0.012 ms\n",
            "Sample values: y[0] = 4.0, y[1] = 4.0, y[N-1] = 4.0\n",
            "\n",
            "N = 2^17 (131072): Max error = 0.000000, Time = 0.013 ms\n",
            "Sample values: y[0] = 4.0, y[1] = 4.0, y[N-1] = 4.0\n",
            "\n",
            "N = 2^18 (262144): Max error = 0.000000, Time = 0.020 ms\n",
            "Sample values: y[0] = 4.0, y[1] = 4.0, y[N-1] = 4.0\n",
            "\n",
            "N = 2^19 (524288): Max error = 0.000000, Time = 0.026 ms\n",
            "Sample values: y[0] = 4.0, y[1] = 4.0, y[N-1] = 4.0\n",
            "\n",
            "N = 2^20 (1048576): Max error = 0.000000, Time = 0.053 ms\n",
            "Sample values: y[0] = 4.0, y[1] = 4.0, y[N-1] = 4.0\n",
            "\n",
            "N = 2^21 (2097152): Max error = 0.000000, Time = 0.100 ms\n",
            "Sample values: y[0] = 4.0, y[1] = 4.0, y[N-1] = 4.0\n",
            "\n",
            "N = 2^22 (4194304): Max error = 0.000000, Time = 0.198 ms\n",
            "Sample values: y[0] = 4.0, y[1] = 4.0, y[N-1] = 4.0\n",
            "\n",
            "N = 2^23 (8388608): Max error = 0.000000, Time = 0.388 ms\n",
            "Sample values: y[0] = 4.0, y[1] = 4.0, y[N-1] = 4.0\n",
            "\n",
            "N = 2^24 (16777216): Max error = 0.000000, Time = 0.771 ms\n",
            "Sample values: y[0] = 4.0, y[1] = 4.0, y[N-1] = 4.0\n",
            "\n",
            "N = 2^25 (33554432): Max error = 0.000000, Time = 1.526 ms\n",
            "Sample values: y[0] = 4.0, y[1] = 4.0, y[N-1] = 4.0\n",
            "\n"
          ]
        }
      ]
    },
    {
      "cell_type": "code",
      "source": [
        "%%writefile saxpy_fancy.cu\n",
        "#include <stdio.h>\n",
        "#include <math.h>\n",
        "#include <cuda_runtime.h>\n",
        "\n",
        "__global__\n",
        "void saxpy(int n, float a, float *x, float *y) {\n",
        "  int i = blockIdx.x * blockDim.x + threadIdx.x;\n",
        "  if (i < n) y[i] = a * x[i] + y[i];\n",
        "}\n",
        "\n",
        "int main(void) {\n",
        "  for (int exp = 15; exp <= 25; exp++) {\n",
        "    int N = 1 << exp;\n",
        "    float *x, *y, *d_x, *d_y;\n",
        "\n",
        "    // Start total timer\n",
        "    cudaEvent_t total_start, total_stop;\n",
        "    cudaEventCreate(&total_start);\n",
        "    cudaEventCreate(&total_stop);\n",
        "    cudaEventRecord(total_start);\n",
        "\n",
        "    x = (float*)malloc(N * sizeof(float));\n",
        "    y = (float*)malloc(N * sizeof(float));\n",
        "\n",
        "    if (cudaMalloc(&d_x, N * sizeof(float)) != cudaSuccess ||\n",
        "        cudaMalloc(&d_y, N * sizeof(float)) != cudaSuccess) {\n",
        "      printf(\"CUDA malloc failed for N = %d\\n\", N);\n",
        "      free(x); free(y);\n",
        "      continue;\n",
        "    }\n",
        "\n",
        "    for (int i = 0; i < N; i++) {\n",
        "      x[i] = 1.0f;\n",
        "      y[i] = 2.0f;\n",
        "    }\n",
        "\n",
        "    cudaMemcpy(d_x, x, N * sizeof(float), cudaMemcpyHostToDevice);\n",
        "    cudaMemcpy(d_y, y, N * sizeof(float), cudaMemcpyHostToDevice);\n",
        "\n",
        "    // Start kernel-only timer\n",
        "    cudaEvent_t kernel_start, kernel_stop;\n",
        "    cudaEventCreate(&kernel_start);\n",
        "    cudaEventCreate(&kernel_stop);\n",
        "    cudaEventRecord(kernel_start);\n",
        "\n",
        "    saxpy<<<(N + 255) / 256, 256>>>(N, 2.0f, d_x, d_y);\n",
        "\n",
        "    cudaEventRecord(kernel_stop);\n",
        "    cudaEventSynchronize(kernel_stop);\n",
        "\n",
        "    cudaMemcpy(y, d_y, N * sizeof(float), cudaMemcpyDeviceToHost);\n",
        "\n",
        "    // End total timer\n",
        "    cudaEventRecord(total_stop);\n",
        "    cudaEventSynchronize(total_stop);\n",
        "\n",
        "    // Calculate times\n",
        "    float kernel_time = 0, total_time = 0;\n",
        "    cudaEventElapsedTime(&kernel_time, kernel_start, kernel_stop);\n",
        "    cudaEventElapsedTime(&total_time, total_start, total_stop);\n",
        "\n",
        "    float maxError = 0.0f;\n",
        "    for (int i = 0; i < N; i++)\n",
        "      maxError = fmaxf(maxError, fabsf(y[i] - 4.0f));\n",
        "\n",
        "    printf(\"N = 2^%d (%d): Max error = %.6f\\n\", exp, N, maxError);\n",
        "    printf(\" → Kernel-only time: %.3f ms\\n\", kernel_time);\n",
        "    printf(\" → Total execution time: %.3f ms\\n\", total_time);\n",
        "    printf(\" → Sample y[0] = %.1f, y[N-1] = %.1f\\n\\n\", y[0], y[N - 1]);\n",
        "\n",
        "    // Cleanup\n",
        "    cudaFree(d_x); cudaFree(d_y); free(x); free(y);\n",
        "    cudaEventDestroy(total_start); cudaEventDestroy(total_stop);\n",
        "    cudaEventDestroy(kernel_start); cudaEventDestroy(kernel_stop);\n",
        "  }\n",
        "\n",
        "  return 0;\n",
        "}"
      ],
      "metadata": {
        "colab": {
          "base_uri": "https://localhost:8080/"
        },
        "id": "3krx6SvOXhiJ",
        "outputId": "832d10c8-5f5b-4727-8c26-62c5649e08fa"
      },
      "execution_count": 9,
      "outputs": [
        {
          "output_type": "stream",
          "name": "stdout",
          "text": [
            "Writing saxpy_fancy.cu\n"
          ]
        }
      ]
    },
    {
      "cell_type": "code",
      "source": [
        "!nvcc -arch=sm_70 saxpy_fancy.cu -o saxpy_fancy"
      ],
      "metadata": {
        "id": "B6_qtEaSXp_g"
      },
      "execution_count": 10,
      "outputs": []
    },
    {
      "cell_type": "code",
      "source": [
        "!./saxpy_fancy"
      ],
      "metadata": {
        "colab": {
          "base_uri": "https://localhost:8080/"
        },
        "id": "b2tPQHT3XxPz",
        "outputId": "024dc7c4-074f-4323-f6e9-d44913b999d3"
      },
      "execution_count": 11,
      "outputs": [
        {
          "output_type": "stream",
          "name": "stdout",
          "text": [
            "N = 2^15 (32768): Max error = 0.000000\n",
            " → Kernel-only time: 0.098 ms\n",
            " → Total execution time: 0.576 ms\n",
            " → Sample y[0] = 4.0, y[N-1] = 4.0\n",
            "\n",
            "N = 2^16 (65536): Max error = 0.000000\n",
            " → Kernel-only time: 0.011 ms\n",
            " → Total execution time: 0.749 ms\n",
            " → Sample y[0] = 4.0, y[N-1] = 4.0\n",
            "\n",
            "N = 2^17 (131072): Max error = 0.000000\n",
            " → Kernel-only time: 0.015 ms\n",
            " → Total execution time: 1.170 ms\n",
            " → Sample y[0] = 4.0, y[N-1] = 4.0\n",
            "\n",
            "N = 2^18 (262144): Max error = 0.000000\n",
            " → Kernel-only time: 0.020 ms\n",
            " → Total execution time: 2.186 ms\n",
            " → Sample y[0] = 4.0, y[N-1] = 4.0\n",
            "\n",
            "N = 2^19 (524288): Max error = 0.000000\n",
            " → Kernel-only time: 0.022 ms\n",
            " → Total execution time: 4.029 ms\n",
            " → Sample y[0] = 4.0, y[N-1] = 4.0\n",
            "\n",
            "N = 2^20 (1048576): Max error = 0.000000\n",
            " → Kernel-only time: 0.055 ms\n",
            " → Total execution time: 9.370 ms\n",
            " → Sample y[0] = 4.0, y[N-1] = 4.0\n",
            "\n",
            "N = 2^21 (2097152): Max error = 0.000000\n",
            " → Kernel-only time: 0.102 ms\n",
            " → Total execution time: 17.589 ms\n",
            " → Sample y[0] = 4.0, y[N-1] = 4.0\n",
            "\n",
            "N = 2^22 (4194304): Max error = 0.000000\n",
            " → Kernel-only time: 0.198 ms\n",
            " → Total execution time: 35.181 ms\n",
            " → Sample y[0] = 4.0, y[N-1] = 4.0\n",
            "\n",
            "N = 2^23 (8388608): Max error = 0.000000\n",
            " → Kernel-only time: 0.382 ms\n",
            " → Total execution time: 75.150 ms\n",
            " → Sample y[0] = 4.0, y[N-1] = 4.0\n",
            "\n",
            "N = 2^24 (16777216): Max error = 0.000000\n",
            " → Kernel-only time: 0.765 ms\n",
            " → Total execution time: 145.786 ms\n",
            " → Sample y[0] = 4.0, y[N-1] = 4.0\n",
            "\n",
            "N = 2^25 (33554432): Max error = 0.000000\n",
            " → Kernel-only time: 1.527 ms\n",
            " → Total execution time: 314.201 ms\n",
            " → Sample y[0] = 4.0, y[N-1] = 4.0\n",
            "\n"
          ]
        }
      ]
    },
    {
      "cell_type": "code",
      "source": [
        "%%writefile fibonacci.cu\n",
        "#include <stdio.h>\n",
        "\n",
        "__global__ void fibonacci_kernel(unsigned long long *fib, int N) {\n",
        "  // Only one thread computes the whole sequence\n",
        "  if (threadIdx.x == 0 && blockIdx.x == 0) {\n",
        "    fib[0] = 0;\n",
        "    if (N > 1) fib[1] = 1;\n",
        "\n",
        "    for (int i = 2; i < N; ++i) {\n",
        "      fib[i] = fib[i - 1] + fib[i - 2];\n",
        "    }\n",
        "  }\n",
        "}\n",
        "\n",
        "int main() {\n",
        "  const int N = 93; // Upper limit for unsigned long long\n",
        "  unsigned long long *fib, *d_fib;\n",
        "\n",
        "  // Allocate memory on host and device\n",
        "  fib = (unsigned long long*)malloc(N * sizeof(unsigned long long));\n",
        "  cudaMalloc(&d_fib, N * sizeof(unsigned long long));\n",
        "\n",
        "  // Launch 1 thread to do the entire sequence computation\n",
        "  fibonacci_kernel<<<1, 1>>>(d_fib, N);\n",
        "\n",
        "  // Copy back result\n",
        "  cudaMemcpy(fib, d_fib, N * sizeof(unsigned long long), cudaMemcpyDeviceToHost);\n",
        "\n",
        "  // Print result\n",
        "  for (int i = 0; i < N; i++)\n",
        "    printf(\"F[%d] = %llu\\n\", i, fib[i]);\n",
        "\n",
        "  // Free memory\n",
        "  cudaFree(d_fib);\n",
        "  free(fib);\n",
        "  return 0;\n",
        "}"
      ],
      "metadata": {
        "colab": {
          "base_uri": "https://localhost:8080/"
        },
        "id": "qaa2qj26a-fn",
        "outputId": "3dee043f-931a-46bd-c565-45d7254d24ea"
      },
      "execution_count": 12,
      "outputs": [
        {
          "output_type": "stream",
          "name": "stdout",
          "text": [
            "Writing fibonacci.cu\n"
          ]
        }
      ]
    },
    {
      "cell_type": "code",
      "source": [
        "!nvcc -arch=sm_70 fibonacci.cu -o fibo"
      ],
      "metadata": {
        "id": "05jzAB-tbJq1"
      },
      "execution_count": 13,
      "outputs": []
    },
    {
      "cell_type": "code",
      "source": [
        "!./fibo"
      ],
      "metadata": {
        "colab": {
          "base_uri": "https://localhost:8080/"
        },
        "id": "lCiT1VbocLII",
        "outputId": "d6ed754d-0e66-42e0-95dc-f26b1bd46240"
      },
      "execution_count": 14,
      "outputs": [
        {
          "output_type": "stream",
          "name": "stdout",
          "text": [
            "F[0] = 0\n",
            "F[1] = 1\n",
            "F[2] = 1\n",
            "F[3] = 2\n",
            "F[4] = 3\n",
            "F[5] = 5\n",
            "F[6] = 8\n",
            "F[7] = 13\n",
            "F[8] = 21\n",
            "F[9] = 34\n",
            "F[10] = 55\n",
            "F[11] = 89\n",
            "F[12] = 144\n",
            "F[13] = 233\n",
            "F[14] = 377\n",
            "F[15] = 610\n",
            "F[16] = 987\n",
            "F[17] = 1597\n",
            "F[18] = 2584\n",
            "F[19] = 4181\n",
            "F[20] = 6765\n",
            "F[21] = 10946\n",
            "F[22] = 17711\n",
            "F[23] = 28657\n",
            "F[24] = 46368\n",
            "F[25] = 75025\n",
            "F[26] = 121393\n",
            "F[27] = 196418\n",
            "F[28] = 317811\n",
            "F[29] = 514229\n",
            "F[30] = 832040\n",
            "F[31] = 1346269\n",
            "F[32] = 2178309\n",
            "F[33] = 3524578\n",
            "F[34] = 5702887\n",
            "F[35] = 9227465\n",
            "F[36] = 14930352\n",
            "F[37] = 24157817\n",
            "F[38] = 39088169\n",
            "F[39] = 63245986\n",
            "F[40] = 102334155\n",
            "F[41] = 165580141\n",
            "F[42] = 267914296\n",
            "F[43] = 433494437\n",
            "F[44] = 701408733\n",
            "F[45] = 1134903170\n",
            "F[46] = 1836311903\n",
            "F[47] = 2971215073\n",
            "F[48] = 4807526976\n",
            "F[49] = 7778742049\n",
            "F[50] = 12586269025\n",
            "F[51] = 20365011074\n",
            "F[52] = 32951280099\n",
            "F[53] = 53316291173\n",
            "F[54] = 86267571272\n",
            "F[55] = 139583862445\n",
            "F[56] = 225851433717\n",
            "F[57] = 365435296162\n",
            "F[58] = 591286729879\n",
            "F[59] = 956722026041\n",
            "F[60] = 1548008755920\n",
            "F[61] = 2504730781961\n",
            "F[62] = 4052739537881\n",
            "F[63] = 6557470319842\n",
            "F[64] = 10610209857723\n",
            "F[65] = 17167680177565\n",
            "F[66] = 27777890035288\n",
            "F[67] = 44945570212853\n",
            "F[68] = 72723460248141\n",
            "F[69] = 117669030460994\n",
            "F[70] = 190392490709135\n",
            "F[71] = 308061521170129\n",
            "F[72] = 498454011879264\n",
            "F[73] = 806515533049393\n",
            "F[74] = 1304969544928657\n",
            "F[75] = 2111485077978050\n",
            "F[76] = 3416454622906707\n",
            "F[77] = 5527939700884757\n",
            "F[78] = 8944394323791464\n",
            "F[79] = 14472334024676221\n",
            "F[80] = 23416728348467685\n",
            "F[81] = 37889062373143906\n",
            "F[82] = 61305790721611591\n",
            "F[83] = 99194853094755497\n",
            "F[84] = 160500643816367088\n",
            "F[85] = 259695496911122585\n",
            "F[86] = 420196140727489673\n",
            "F[87] = 679891637638612258\n",
            "F[88] = 1100087778366101931\n",
            "F[89] = 1779979416004714189\n",
            "F[90] = 2880067194370816120\n",
            "F[91] = 4660046610375530309\n",
            "F[92] = 7540113804746346429\n"
          ]
        }
      ]
    }
  ]
}